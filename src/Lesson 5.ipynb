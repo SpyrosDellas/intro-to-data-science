{
 "cells": [
  {
   "cell_type": "code",
   "execution_count": 1,
   "metadata": {},
   "outputs": [],
   "source": [
    "import numpy as np\n",
    "import pandas as pd\n",
    "from matplotlib import pyplot as plt\n",
    "import scipy.stats"
   ]
  },
  {
   "cell_type": "markdown",
   "metadata": {},
   "source": [
    "# Part 1 - Two sample t-test"
   ]
  },
  {
   "cell_type": "code",
   "execution_count": 2,
   "metadata": {},
   "outputs": [
    {
     "name": "stdout",
     "output_type": "stream",
     "text": [
      "t = -0.280, v = 307.199\n"
     ]
    }
   ],
   "source": [
    "def t_test(s1: tuple, s2: tuple) -> tuple:\n",
    "    \"\"\"Welch's two-sample t-Test.\n",
    "    \n",
    "    Return the values of the 't' statistic and degrees of freedom 'v'.\n",
    "    \"\"\"\n",
    "    # sample mean estimate, sample variance estimate and sample size\n",
    "    mean1, var1, n1 = s1  \n",
    "    mean2, var2, n2 = s2\n",
    "    # degrees of freedom of the variance estimate\n",
    "    v1 = n1 - 1\n",
    "    v2 = n2 - 1 \n",
    "    t = (mean1 - mean2) / np.sqrt((var1 / n1) + (var2 / n2))\n",
    "    v = (var1 / n1 + var2 / n2)**2 / (var1**2 / (n1**2 * v1) + (var2**2 / (n2**2 * v2)))\n",
    "    return t, v\n",
    "\n",
    "\n",
    "sample1 = (0.299, 0.05, 150)\n",
    "sample2 = (0.307, 0.08, 165)\n",
    "\n",
    "t, v = t_test(sample1, sample2)\n",
    "print(\"t = {:.3f}, v = {:.3f}\".format(t, v))"
   ]
  },
  {
   "cell_type": "markdown",
   "metadata": {},
   "source": [
    "### `scipy.stats.ttest_ind()`\n",
    "\n",
    "```python\n",
    "Signature: scipy.stats.ttest_ind(a, b, axis=0, equal_var=True, nan_policy='propagate')\n",
    "Docstring:\n",
    "Calculate the T-test for the means of *two independent* samples of scores.\n",
    "\n",
    "This is a two-sided test for the null hypothesis that 2 independent samples\n",
    "have identical average (expected) values. This test assumes that the\n",
    "populations have identical variances by default.\n",
    "\n",
    "Parameters\n",
    "----------\n",
    "a, b : array_like\n",
    "    The arrays must have the same shape, except in the dimension\n",
    "    corresponding to `axis` (the first, by default).\n",
    "axis : int or None, optional\n",
    "    Axis along which to compute test. If None, compute over the whole\n",
    "    arrays, `a`, and `b`.\n",
    "equal_var : bool, optional\n",
    "    If True (default), perform a standard independent 2 sample test\n",
    "    that assumes equal population variances [1]_.\n",
    "    If False, perform Welch's t-test, which does not assume equal\n",
    "    population variance [2]_.\n",
    "\n",
    "    .. versionadded:: 0.11.0\n",
    "nan_policy : {'propagate', 'raise', 'omit'}, optional\n",
    "    Defines how to handle when input contains nan.\n",
    "    The following options are available (default is 'propagate'):\n",
    "\n",
    "      * 'propagate': returns nan\n",
    "      * 'raise': throws an error\n",
    "      * 'omit': performs the calculations ignoring nan values\n",
    "\n",
    "Returns\n",
    "-------\n",
    "statistic : float or array\n",
    "    The calculated t-statistic.\n",
    "pvalue : float or array\n",
    "    The two-tailed p-value.\n",
    "\n",
    "Notes\n",
    "-----\n",
    "We can use this test, if we observe two independent samples from\n",
    "the same or different population, e.g. exam scores of boys and\n",
    "girls or of two ethnic groups. The test measures whether the\n",
    "average (expected) value differs significantly across samples. If\n",
    "we observe a large p-value, for example larger than 0.05 or 0.1,\n",
    "then we cannot reject the null hypothesis of identical average scores.\n",
    "If the p-value is smaller than the threshold, e.g. 1%, 5% or 10%,\n",
    "then we reject the null hypothesis of equal averages.\n",
    "\n",
    "```"
   ]
  },
  {
   "cell_type": "code",
   "execution_count": 3,
   "metadata": {},
   "outputs": [],
   "source": [
    "filename = \"../data/baseball_stats.csv\"\n",
    "baseball = pd.read_csv(filename)"
   ]
  },
  {
   "cell_type": "code",
   "execution_count": 4,
   "metadata": {},
   "outputs": [
    {
     "name": "stdout",
     "output_type": "stream",
     "text": [
      "<class 'pandas.core.frame.DataFrame'>\n",
      "RangeIndex: 18177 entries, 0 to 18176\n",
      "Data columns (total 6 columns):\n",
      " #   Column      Non-Null Count  Dtype  \n",
      "---  ------      --------------  -----  \n",
      " 0   name        18177 non-null  object \n",
      " 1   handedness  16974 non-null  object \n",
      " 2   height      18177 non-null  object \n",
      " 3   weight      18177 non-null  object \n",
      " 4   avg         18177 non-null  float64\n",
      " 5   HR          18177 non-null  int64  \n",
      "dtypes: float64(1), int64(1), object(4)\n",
      "memory usage: 852.2+ KB\n"
     ]
    }
   ],
   "source": [
    "baseball.info()"
   ]
  },
  {
   "cell_type": "code",
   "execution_count": 5,
   "metadata": {},
   "outputs": [
    {
     "data": {
      "text/html": [
       "<div>\n",
       "<style scoped>\n",
       "    .dataframe tbody tr th:only-of-type {\n",
       "        vertical-align: middle;\n",
       "    }\n",
       "\n",
       "    .dataframe tbody tr th {\n",
       "        vertical-align: top;\n",
       "    }\n",
       "\n",
       "    .dataframe thead th {\n",
       "        text-align: right;\n",
       "    }\n",
       "</style>\n",
       "<table border=\"1\" class=\"dataframe\">\n",
       "  <thead>\n",
       "    <tr style=\"text-align: right;\">\n",
       "      <th></th>\n",
       "      <th>name</th>\n",
       "      <th>handedness</th>\n",
       "      <th>height</th>\n",
       "      <th>weight</th>\n",
       "      <th>avg</th>\n",
       "      <th>HR</th>\n",
       "    </tr>\n",
       "  </thead>\n",
       "  <tbody>\n",
       "    <tr>\n",
       "      <th>0</th>\n",
       "      <td>Brandon Hyde</td>\n",
       "      <td>R</td>\n",
       "      <td>75</td>\n",
       "      <td>210</td>\n",
       "      <td>0.000</td>\n",
       "      <td>0</td>\n",
       "    </tr>\n",
       "    <tr>\n",
       "      <th>1</th>\n",
       "      <td>Carey Selph</td>\n",
       "      <td>R</td>\n",
       "      <td>69</td>\n",
       "      <td>175</td>\n",
       "      <td>0.277</td>\n",
       "      <td>0</td>\n",
       "    </tr>\n",
       "    <tr>\n",
       "      <th>2</th>\n",
       "      <td>Philip Nastu</td>\n",
       "      <td>L</td>\n",
       "      <td>74</td>\n",
       "      <td>180</td>\n",
       "      <td>0.040</td>\n",
       "      <td>0</td>\n",
       "    </tr>\n",
       "    <tr>\n",
       "      <th>3</th>\n",
       "      <td>Kent Hrbek</td>\n",
       "      <td>L</td>\n",
       "      <td>76</td>\n",
       "      <td>200</td>\n",
       "      <td>0.282</td>\n",
       "      <td>293</td>\n",
       "    </tr>\n",
       "    <tr>\n",
       "      <th>4</th>\n",
       "      <td>Bill Risley</td>\n",
       "      <td>R</td>\n",
       "      <td>74</td>\n",
       "      <td>215</td>\n",
       "      <td>0.000</td>\n",
       "      <td>0</td>\n",
       "    </tr>\n",
       "    <tr>\n",
       "      <th>5</th>\n",
       "      <td>Wood</td>\n",
       "      <td>NaN</td>\n",
       "      <td></td>\n",
       "      <td></td>\n",
       "      <td>0.000</td>\n",
       "      <td>0</td>\n",
       "    </tr>\n",
       "    <tr>\n",
       "      <th>6</th>\n",
       "      <td>Steve Gajkowski</td>\n",
       "      <td>R</td>\n",
       "      <td>74</td>\n",
       "      <td>200</td>\n",
       "      <td>0.000</td>\n",
       "      <td>0</td>\n",
       "    </tr>\n",
       "    <tr>\n",
       "      <th>7</th>\n",
       "      <td>Rick Schu</td>\n",
       "      <td>R</td>\n",
       "      <td>72</td>\n",
       "      <td>170</td>\n",
       "      <td>0.246</td>\n",
       "      <td>41</td>\n",
       "    </tr>\n",
       "    <tr>\n",
       "      <th>8</th>\n",
       "      <td>Tom Brown</td>\n",
       "      <td>R</td>\n",
       "      <td>73</td>\n",
       "      <td>170</td>\n",
       "      <td>0.000</td>\n",
       "      <td>0</td>\n",
       "    </tr>\n",
       "    <tr>\n",
       "      <th>9</th>\n",
       "      <td>Tom Browning</td>\n",
       "      <td>L</td>\n",
       "      <td>73</td>\n",
       "      <td>190</td>\n",
       "      <td>0.153</td>\n",
       "      <td>2</td>\n",
       "    </tr>\n",
       "  </tbody>\n",
       "</table>\n",
       "</div>"
      ],
      "text/plain": [
       "              name handedness height weight    avg   HR\n",
       "0     Brandon Hyde          R     75    210  0.000    0\n",
       "1      Carey Selph          R     69    175  0.277    0\n",
       "2     Philip Nastu          L     74    180  0.040    0\n",
       "3       Kent Hrbek          L     76    200  0.282  293\n",
       "4      Bill Risley          R     74    215  0.000    0\n",
       "5             Wood        NaN                0.000    0\n",
       "6  Steve Gajkowski          R     74    200  0.000    0\n",
       "7        Rick Schu          R     72    170  0.246   41\n",
       "8        Tom Brown          R     73    170  0.000    0\n",
       "9     Tom Browning          L     73    190  0.153    2"
      ]
     },
     "execution_count": 5,
     "metadata": {},
     "output_type": "execute_result"
    }
   ],
   "source": [
    "baseball.head(10)"
   ]
  },
  {
   "cell_type": "code",
   "execution_count": 6,
   "metadata": {},
   "outputs": [
    {
     "data": {
      "text/plain": [
       "(False, (9.935702226242094, 3.810274225888738e-23))"
      ]
     },
     "execution_count": 6,
     "metadata": {},
     "output_type": "execute_result"
    }
   ],
   "source": [
    "def compare_averages(filename):\n",
    "    \"\"\"\n",
    "    Performs Welch's t-test on two sets of baseball data (left-handed and right-handed hitters).\n",
    "\n",
    "    With a significance level of 95%, if there is no difference between the two cohorts, return a tuple consisting of\n",
    "    True, and then the tuple returned by scipy.stats.ttest.  \n",
    "    \n",
    "    If there is a difference, return a tuple consisting of False, and then the tuple returned by scipy.stats.ttest.\n",
    "    \n",
    "    For example, the tuple returned may look like: (True, (9.93570222, 0.000023))\n",
    "    \"\"\"\n",
    "    baseball = pd.read_csv(filename)\n",
    "    left_handed = baseball[baseball.handedness == 'L']['avg']\n",
    "    right_handed = baseball[baseball.handedness == 'R']['avg']\n",
    "    t, p = scipy.stats.ttest_ind(left_handed, right_handed, equal_var=False)\n",
    "    return (False, (t, p)) if p < 0.05 else (True, (t, p))\n",
    "    \n",
    "\n",
    "compare_averages(filename)\n"
   ]
  },
  {
   "cell_type": "markdown",
   "metadata": {},
   "source": [
    "# Part 2 - Shapiro-Wilk test for normality"
   ]
  },
  {
   "cell_type": "markdown",
   "metadata": {},
   "source": [
    "### `scipy.stats.shapiro()`\n",
    "\n",
    "```python\n",
    "Signature: scipy.stats.shapiro(x)\n",
    "Docstring:\n",
    "Perform the Shapiro-Wilk test for normality.\n",
    "\n",
    "The Shapiro-Wilk test tests the null hypothesis that the\n",
    "data was drawn from a normal distribution.\n",
    "\n",
    "Parameters\n",
    "----------\n",
    "x : array_like\n",
    "    Array of sample data.\n",
    "\n",
    "Returns\n",
    "-------\n",
    "statistic : float\n",
    "    The test statistic.\n",
    "p-value : float\n",
    "    The p-value for the hypothesis test.\n",
    "\n",
    "See Also\n",
    "--------\n",
    "anderson : The Anderson-Darling test for normality\n",
    "kstest : The Kolmogorov-Smirnov test for goodness of fit.\n",
    "\n",
    "Notes\n",
    "-----\n",
    "The algorithm used is described in [4]_ but censoring parameters as\n",
    "described are not implemented. For N > 5000 the W test statistic is accurate\n",
    "but the p-value may not be.\n",
    "\n",
    "The chance of rejecting the null hypothesis when it is true is close to 5%\n",
    "regardless of sample size.\n",
    "\n",
    "```"
   ]
  },
  {
   "cell_type": "markdown",
   "metadata": {},
   "source": [
    "### Check the baseball dataset for normality of the distribution of *avg*"
   ]
  },
  {
   "cell_type": "code",
   "execution_count": 7,
   "metadata": {},
   "outputs": [
    {
     "name": "stdout",
     "output_type": "stream",
     "text": [
      "statistic = 0.750, p-value = 0.000\n",
      "Conclusion: The batting averages are not normally distributed, since p is close to 0 and way lower than the usual 0.05\n"
     ]
    }
   ],
   "source": [
    "averages = baseball['avg'][baseball.avg > 0.00]\n",
    "\n",
    "statistic, p = scipy.stats.shapiro(averages[: 5000])\n",
    "\n",
    "print(\"statistic = {:.3f}, p-value = {:.3f}\".format(statistic, p))\n",
    "\n",
    "print(\"Conclusion: The batting averages are not normally distributed, since p is \\\n",
    "close to 0 and way lower than the usual 0.05\")"
   ]
  },
  {
   "cell_type": "code",
   "execution_count": 8,
   "metadata": {},
   "outputs": [
    {
     "data": {
      "image/png": "[encoded data removed]",
      "text/plain": [
       "<Figure size 432x288 with 1 Axes>"
      ]
     },
     "metadata": {
      "needs_background": "light"
     },
     "output_type": "display_data"
    }
   ],
   "source": [
    "plt.hist(averages, bins=100)\n",
    "plt.title(\"Batting averages\")\n",
    "plt.show()"
   ]
  },
  {
   "cell_type": "markdown",
   "metadata": {},
   "source": [
    "# Part 3 - Mann-Whitney U Test"
   ]
  },
  {
   "cell_type": "markdown",
   "metadata": {},
   "source": [
    "### `scipy.stats.mannwhitneyu()`\n",
    "\n",
    "```python\n",
    "Signature: scipy.stats.mannwhitneyu(x, y, use_continuity=True, alternative=None)\n",
    "Docstring:\n",
    "Compute the Mann-Whitney rank test on samples x and y.\n",
    "\n",
    "Parameters\n",
    "----------\n",
    "x, y : array_like\n",
    "    Array of samples, should be one-dimensional.\n",
    "use_continuity : bool, optional\n",
    "        Whether a continuity correction (1/2.) should be taken into\n",
    "        account. Default is True.\n",
    "alternative : {None, 'two-sided', 'less', 'greater'}, optional\n",
    "    Defines the alternative hypothesis.\n",
    "    The following options are available (default is None):\n",
    "\n",
    "      * None: computes p-value half the size of the 'two-sided' p-value and\n",
    "        a different U statistic. The default behavior is not the same as\n",
    "        using 'less' or 'greater'; it only exists for backward compatibility\n",
    "        and is deprecated.\n",
    "      * 'two-sided'\n",
    "      * 'less': one-sided\n",
    "      * 'greater': one-sided\n",
    "\n",
    "    Use of the None option is deprecated.\n",
    "\n",
    "Returns\n",
    "-------\n",
    "statistic : float\n",
    "    The Mann-Whitney U statistic, equal to min(U for x, U for y) if\n",
    "    `alternative` is equal to None (deprecated; exists for backward\n",
    "    compatibility), and U for y otherwise.\n",
    "pvalue : float\n",
    "    p-value assuming an asymptotic normal distribution. One-sided or\n",
    "    two-sided, depending on the choice of `alternative`.\n",
    "\n",
    "Notes\n",
    "-----\n",
    "Use only when the number of observation in each sample is > 20 and\n",
    "you have 2 independent samples of ranks. Mann-Whitney U is\n",
    "significant if the u-obtained is LESS THAN or equal to the critical\n",
    "value of U.\n",
    "\n",
    "This test corrects for ties and by default uses a continuity correction.\n",
    "```"
   ]
  },
  {
   "cell_type": "markdown",
   "metadata": {},
   "source": [
    "### For the baseball dataset, test the following for the batting averages:\n",
    "\n",
    "- If we draw randomly from each distribution of batting averages for left-handed and right-handed players, one distribution is more likely to generate a higher value than the other."
   ]
  },
  {
   "cell_type": "code",
   "execution_count": 9,
   "metadata": {},
   "outputs": [],
   "source": [
    "left_handed = baseball[(baseball.handedness == 'L') & (baseball.avg > 0.0)]['avg']\n",
    "right_handed = baseball[(baseball.handedness == 'R') & (baseball.avg > 0.0)]['avg']"
   ]
  },
  {
   "cell_type": "code",
   "execution_count": 10,
   "metadata": {},
   "outputs": [
    {
     "data": {
      "image/png": "[encoded data removed]",
      "text/plain": [
       "<Figure size 864x576 with 1 Axes>"
      ]
     },
     "metadata": {
      "needs_background": "light"
     },
     "output_type": "display_data"
    }
   ],
   "source": [
    "plt.figure(figsize=(12, 8))\n",
    "plt.hist([left_handed[:3500], right_handed[:3500]], bins=50, label=[\"Left-handed\", \"Right-handed\"])\n",
    "plt.title(\"Batting averages of players\")\n",
    "plt.legend()\n",
    "plt.show()"
   ]
  },
  {
   "cell_type": "code",
   "execution_count": 11,
   "metadata": {},
   "outputs": [
    {
     "name": "stdout",
     "output_type": "stream",
     "text": [
      "LEFT HANDED PLAYERS\n",
      " count    3724.000000\n",
      "mean        0.233777\n",
      "std         0.088795\n",
      "min         0.016000\n",
      "25%         0.188750\n",
      "50%         0.243000\n",
      "75%         0.271000\n",
      "max         1.000000\n",
      "Name: avg, dtype: float64 \n",
      "\n",
      "RIGHT HANDED PLAYERS\n",
      " count    8391.000000\n",
      "mean        0.217780\n",
      "std         0.101292\n",
      "min         0.021000\n",
      "25%         0.163000\n",
      "50%         0.222000\n",
      "75%         0.258000\n",
      "max         1.000000\n",
      "Name: avg, dtype: float64 \n",
      "\n",
      "Null-hypothesis: Left-handed players' batting average median value is greater than right-handed players'\n",
      "statistic = 18224517.500, p-value = 1.000\n",
      "\n",
      "Conclusion: If we randomly select a left-handed and a right-handed player, the left-handed player is more likely to have a higher batting average.\n"
     ]
    }
   ],
   "source": [
    "statistic, p = scipy.stats.mannwhitneyu(left_handed, right_handed, alternative='less')\n",
    "\n",
    "print(\"LEFT HANDED PLAYERS\\n\", left_handed.describe(), \"\\n\")\n",
    "print(\"RIGHT HANDED PLAYERS\\n\", right_handed.describe(), \"\\n\")\n",
    "\n",
    "print(\"Null-hypothesis: Left-handed players' batting average median value is greater than right-handed players'\")\n",
    "print(\"statistic = {:.3f}, p-value = {:.3f}\".format(statistic, p))\n",
    "\n",
    "print(\"\\nConclusion: If we randomly select a left-handed and a right-handed player, \\\n",
    "the left-handed player is more likely to have a higher batting average.\")"
   ]
  },
  {
   "cell_type": "markdown",
   "metadata": {},
   "source": [
    "# Part 4 - Linear Regression"
   ]
  },
  {
   "cell_type": "code",
   "execution_count": null,
   "metadata": {},
   "outputs": [],
   "source": [
    "def compute_cost(features, values, theta):\n",
    "    \"\"\"\n",
    "    Compute the cost of a list of parameters, theta, given a list of features \n",
    "    (input data points) and values (output data points).\n",
    "    \"\"\"\n",
    "    m = len(values)\n",
    "    sum_of_square_errors = np.square(np.dot(features, theta) - values).sum()\n",
    "    cost = sum_of_square_errors / (2 * m)\n",
    "    return cost\n",
    "\n",
    "\n",
    "def gradient_descent(features, values, theta, alpha, num_iterations):\n",
    "    \"\"\"Perform gradient descent given a data set with an arbitrary number of features.\n",
    "    \n",
    "    The code performs 'num_iterations' updates to the elements of theta.\n",
    "    Every time we compute the cost for a given list of thetas, we append it to the cost_history.    \n",
    "    \"\"\"\n",
    "    cost_history = []\n",
    "    m = len(values)\n",
    "    for _ in range(num_iterations):\n",
    "        theta -= (alpha / m) * np.dot(np.transpose(features), np.dot(features, theta) - values)\n",
    "        cost = compute_cost(features, values, theta)\n",
    "        cost_history.append(cost)\n",
    "    \n",
    "    return theta, pd.Series(cost_history)\n"
   ]
  },
  {
   "cell_type": "markdown",
   "metadata": {},
   "source": [
    "# Part 5 - Coefficient of determination\n",
    "\n",
    "### Definition\n",
    "In statistics, the coefficient of determination, denoted R<sup>2</sup> or r<sup>2</sup> and pronounced \"R squared\", is the proportion of the variance in the dependent variable that is predictable from the independent variable(s).\n",
    "\n",
    "It is a statistic used in the context of statistical models whose main purpose is either the prediction of future outcomes or the testing of hypotheses, on the basis of other related information. It provides a measure of how well observed \n",
    "outcomes are replicated by the model, based on the proportion of total variation of outcomes explained by the model."
   ]
  },
  {
   "cell_type": "code",
   "execution_count": null,
   "metadata": {},
   "outputs": [],
   "source": [
    "def compute_r_squared(data, predictions):\n",
    "    \"\"\"Given two input numpy arrays, 'data', and 'predictions', return the coefficient of \n",
    "    determination, R^2, for the model that produced the predictions.\n",
    "    \"\"\"\n",
    "    return 1 - np.square(data - predictions).sum() / np.square(data - data.mean()).sum()"
   ]
  }
 ],
 "metadata": {
  "kernelspec": {
   "display_name": "Python 3",
   "language": "python",
   "name": "python3"
  },
  "language_info": {
   "codemirror_mode": {
    "name": "ipython",
    "version": 3
   },
   "file_extension": ".py",
   "mimetype": "text/x-python",
   "name": "python",
   "nbconvert_exporter": "python",
   "pygments_lexer": "ipython3",
   "version": "3.7.9"
  }
 },
 "nbformat": 4,
 "nbformat_minor": 4
}
