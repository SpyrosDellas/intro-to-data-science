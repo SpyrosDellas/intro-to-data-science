{
 "cells": [
  {
   "cell_type": "markdown",
   "metadata": {},
   "source": [
    "# Part 1 - Counting Words Serially"
   ]
  },
  {
   "cell_type": "code",
   "execution_count": 9,
   "metadata": {},
   "outputs": [],
   "source": [
    "from collections import defaultdict\n",
    "import logging\n",
    "import sys\n",
    "import string"
   ]
  },
  {
   "cell_type": "code",
   "execution_count": 23,
   "metadata": {},
   "outputs": [
    {
     "data": {
      "text/plain": [
       "defaultdict(<function __main__.word_count.<locals>.<lambda>()>,\n",
       "            {'test': 1, 'stringassdf': 1})"
      ]
     },
     "execution_count": 23,
     "metadata": {},
     "output_type": "execute_result"
    }
   ],
   "source": [
    "def word_count(lines):\n",
    "    \"\"\"Serially count the number of occurrences of each word in the book Alice in Wonderland.\n",
    "    \n",
    "    The text of Alice in Wonderland is fed into the program line-by-line.\n",
    "    \n",
    "    Parsing algorithm:\n",
    "    1) Tokenize the line into string tokens by whitespace\n",
    "       Example: \"Hello, World!\" is converted into \"Hello,\" and \"World!\"\n",
    "    \n",
    "    2) Remove all punctuation\n",
    "       Example: \"Hello,\" and \"World!\" should be converted into \"Hello\" and \"World\"\n",
    "    \n",
    "    3) Make all letters lowercase\n",
    "       Example: \"Hello\" and \"World\" should be converted to \"hello\" and \"world\"\n",
    "    \n",
    "    Store the the number of times that a word appears in Alice in Wonderland\n",
    "    in the word_counts dictionary, and then *print* (don't return) that dictionary\n",
    "    \"\"\"\n",
    "    word_counts = defaultdict(lambda : 0)\n",
    "    table = str.maketrans(\"\", \"\", string.punctuation)\n",
    "    \n",
    "    for line in lines:\n",
    "        words = line.strip().lower().split()\n",
    "        for word in words:\n",
    "            word = word.translate(table)\n",
    "            word_counts[word] += 1\n",
    "\n",
    "    return word_counts\n",
    "\n",
    "\n",
    "lines = [\"     tEsT, string!.....assdf??  \"]\n",
    "word_count(lines)\n"
   ]
  },
  {
   "cell_type": "code",
   "execution_count": null,
   "metadata": {},
   "outputs": [],
   "source": []
  }
 ],
 "metadata": {
  "kernelspec": {
   "display_name": "Python 3",
   "language": "python",
   "name": "python3"
  },
  "language_info": {
   "codemirror_mode": {
    "name": "ipython",
    "version": 3
   },
   "file_extension": ".py",
   "mimetype": "text/x-python",
   "name": "python",
   "nbconvert_exporter": "python",
   "pygments_lexer": "ipython3",
   "version": "3.7.9"
  }
 },
 "nbformat": 4,
 "nbformat_minor": 4
}
